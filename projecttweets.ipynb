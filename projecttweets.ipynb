{
 "cells": [
  {
   "cell_type": "code",
   "execution_count": 2,
   "metadata": {},
   "outputs": [],
   "source": [
    "import pyspark\n",
    "sc = pyspark.SparkContext(appName=\"Spark Donald Trump Communication Analysis on Twitter\")"
   ]
  },
  {
   "cell_type": "code",
   "execution_count": 198,
   "metadata": {},
   "outputs": [],
   "source": [
    "df = spark.read.text('trump_tweets.txt')"
   ]
  },
  {
   "cell_type": "code",
   "execution_count": 199,
   "metadata": {},
   "outputs": [
    {
     "name": "stdout",
     "output_type": "stream",
     "text": [
      "root\n",
      " |-- value: string (nullable = true)\n",
      "\n",
      "+--------------------+\n",
      "|               value|\n",
      "+--------------------+\n",
      "|Republicans and D...|\n",
      "|I was thrilled to...|\n",
      "|RT @CBS_Herridge:...|\n",
      "|The Unsolicited M...|\n",
      "|RT @MZHemingway: ...|\n",
      "|RT @WhiteHouse: P...|\n",
      "|“I’m running as a...|\n",
      "|Getting a little ...|\n",
      "|https://t.co/4qwC...|\n",
      "|https://t.co/VlEu...|\n",
      "|https://t.co/z5CR...|\n",
      "|https://t.co/TQCQ...|\n",
      "|RT @EricTrump: ht...|\n",
      "|\"RT @GOPChairwoma...|\n",
      "|                    |\n",
      "|273K jobs added i...|\n",
      "|                    |\n",
      "|7M+ jobs added si...|\n",
      "|                    |\n",
      "|Unemploym…\";08/03...|\n",
      "+--------------------+\n",
      "only showing top 20 rows\n",
      "\n"
     ]
    }
   ],
   "source": [
    "df.printSchema()\n",
    "df.show()"
   ]
  },
  {
   "cell_type": "code",
   "execution_count": 56,
   "metadata": {},
   "outputs": [
    {
     "data": {
      "text/plain": [
       "['Republicans and Democrats have both created our economic problems.;02/08/2011 18:07:48',\n",
       " 'I was thrilled to be back in the Great city of Charlotte, North Carolina with thousands of hardworking American Patriots who love our Country, cherish our values, respect our laws, and always put AMERICA FIRST! Thank you for a wonderful evening!! #KAG2020 https://t.co/dNJZfRsl9y;03/03/2020 01:34:50',\n",
       " 'RT @CBS_Herridge: READ: Letter to surveillance court obtained by CBS News questions where there will be further disciplinary action and cho…;17/01/2020 03:22:47',\n",
       " 'The Unsolicited Mail In Ballot Scam is a major threat to our Democracy, &amp  the Democrats know it. Almost all recent elections using this system, even though much smaller &amp   with far fewer Ballots to count, have ended up being a disaster. Large numbers of missing Ballots &amp  Fraud!;12/09/2020 20:10:58',\n",
       " \"RT @MZHemingway: Very friendly telling of events here about Comey's apparent leaking to compliant media. If you read those articles and tho…;17/01/2020 13:13:59\",\n",
       " 'RT @WhiteHouse: President @realDonaldTrump announced historic steps to protect the Constitutional right to pray in public schools! https://…;17/01/2020 00:11:56',\n",
       " '“I’m running as a proud Democrat, for the Senate”. Sleepy Joe Biden today. It’s only going to get worse. It is not sustainable for our County - China will own us!!!!;12/10/2020 22:22:39',\n",
       " 'Getting a little exercise this morning! https://t.co/fyAAcbhbgk;01/02/2020 16:14:02',\n",
       " 'https://t.co/4qwCKQOiOw;23/10/2020 04:52:14',\n",
       " 'https://t.co/VlEu8yyovv;23/10/2020 04:46:53']"
      ]
     },
     "execution_count": 56,
     "metadata": {},
     "output_type": "execute_result"
    }
   ],
   "source": [
    "# first read the trump_tweets.txt file into the RDD rdd_mbox\n",
    "\n",
    "rdd_tweets = sc.textFile('trump_tweets.txt')\n",
    "\n",
    "# print a sample of 10 lines of rdd_mox\n",
    "\n",
    "rdd_tweets.take(10)"
   ]
  },
  {
   "cell_type": "code",
   "execution_count": 83,
   "metadata": {},
   "outputs": [
    {
     "data": {
      "text/plain": [
       "['Republicans',\n",
       " 'and',\n",
       " 'Democrats',\n",
       " 'have',\n",
       " 'both',\n",
       " 'created',\n",
       " 'our',\n",
       " 'economic',\n",
       " 'problems',\n",
       " '02/08/2011',\n",
       " '18:07:48']"
      ]
     },
     "execution_count": 83,
     "metadata": {},
     "output_type": "execute_result"
    }
   ],
   "source": [
    "# we define an utility function that can split each line into individual words by using multiple separators\n",
    "# this function returns a list of individual words from the string parameter by applying the split\n",
    "# note that the result can contain empty strings\n",
    "\n",
    "import re\n",
    "def split_with_multiple_separator(string_value): return re.split('#|,| |[|]|.;', string_value.strip())\n",
    "\n",
    "#usage example:\n",
    "\n",
    "split_with_multiple_separator(rdd_tweets.take(1)[0])"
   ]
  },
  {
   "cell_type": "code",
   "execution_count": 93,
   "metadata": {},
   "outputs": [
    {
     "data": {
      "text/plain": [
       "['Republicans',\n",
       " 'and',\n",
       " 'Democrats',\n",
       " 'have',\n",
       " 'both',\n",
       " 'created',\n",
       " 'our',\n",
       " 'economic',\n",
       " 'problems',\n",
       " '02/08/2011',\n",
       " '18:07:48',\n",
       " 'I',\n",
       " 'was',\n",
       " 'thrilled',\n",
       " 'to',\n",
       " 'be',\n",
       " 'back',\n",
       " 'in',\n",
       " 'the',\n",
       " 'Great',\n",
       " 'city',\n",
       " 'of',\n",
       " 'Charlotte',\n",
       " 'North',\n",
       " 'Carolina',\n",
       " 'with',\n",
       " 'thousands',\n",
       " 'of',\n",
       " 'hardworking',\n",
       " 'American',\n",
       " 'Patriots',\n",
       " 'who',\n",
       " 'love',\n",
       " 'our',\n",
       " 'Country',\n",
       " 'cherish',\n",
       " 'our',\n",
       " 'values',\n",
       " 'respect',\n",
       " 'our',\n",
       " 'laws',\n",
       " 'and',\n",
       " 'always',\n",
       " 'put',\n",
       " 'AMERICA',\n",
       " 'FIRST!',\n",
       " 'Thank',\n",
       " 'you',\n",
       " 'for',\n",
       " 'a',\n",
       " 'wonderful',\n",
       " 'evening!!',\n",
       " 'KAG2020',\n",
       " 'https://t.co/dNJZfRsl9',\n",
       " '03/03/2020',\n",
       " '01:34:50',\n",
       " 'RT',\n",
       " '@CBS_Herridge:',\n",
       " 'READ:',\n",
       " 'Letter']"
      ]
     },
     "execution_count": 93,
     "metadata": {},
     "output_type": "execute_result"
    }
   ],
   "source": [
    "# compute an rdd with individual words (rdd_tweets_words) from the rdd_product by using the previous function\n",
    "# rdd_tweets_words should not contain empty strings\n",
    "\n",
    "\n",
    "rdd_tweets_words = rdd_tweets.flatMap(split_with_multiple_separator).filter(lambda word: word!='')\n",
    "rdd_tweets_words.take(60)"
   ]
  },
  {
   "cell_type": "code",
   "execution_count": 90,
   "metadata": {},
   "outputs": [],
   "source": [
    "#Create a function to delete \"https\"\n",
    "\n",
    "delsite = [\"https\"]\n",
    "def delhttps(line):\n",
    "    for i in delsite:\n",
    "        if i in line:\n",
    "            return 1\n",
    "    return 0\n"
   ]
  },
  {
   "cell_type": "code",
   "execution_count": 95,
   "metadata": {},
   "outputs": [
    {
     "data": {
      "text/plain": [
       "['Republicans',\n",
       " 'and',\n",
       " 'Democrats',\n",
       " 'have',\n",
       " 'both',\n",
       " 'created',\n",
       " 'our',\n",
       " 'economic',\n",
       " 'problems',\n",
       " '02/08/2011',\n",
       " '18:07:48',\n",
       " 'I',\n",
       " 'was',\n",
       " 'thrilled',\n",
       " 'to',\n",
       " 'be',\n",
       " 'back',\n",
       " 'in',\n",
       " 'the',\n",
       " 'Great',\n",
       " 'city',\n",
       " 'of',\n",
       " 'Charlotte',\n",
       " 'North',\n",
       " 'Carolina',\n",
       " 'with',\n",
       " 'thousands',\n",
       " 'of',\n",
       " 'hardworking',\n",
       " 'American',\n",
       " 'Patriots',\n",
       " 'who',\n",
       " 'love',\n",
       " 'our',\n",
       " 'Country',\n",
       " 'cherish',\n",
       " 'our',\n",
       " 'values',\n",
       " 'respect',\n",
       " 'our',\n",
       " 'laws',\n",
       " 'and',\n",
       " 'always',\n",
       " 'put',\n",
       " 'AMERICA',\n",
       " 'FIRST!',\n",
       " 'Thank',\n",
       " 'you',\n",
       " 'for',\n",
       " 'a',\n",
       " 'wonderful',\n",
       " 'evening!!',\n",
       " 'KAG2020',\n",
       " '03/03/2020',\n",
       " '01:34:50',\n",
       " 'RT',\n",
       " '@CBS_Herridge:',\n",
       " 'READ:',\n",
       " 'Letter',\n",
       " 'to']"
      ]
     },
     "execution_count": 95,
     "metadata": {},
     "output_type": "execute_result"
    }
   ],
   "source": [
    "rdd_tweets_words = rdd_tweets_words.filter(lambda line: delhttps(line) != 1)\n",
    "rdd_tweets_words.take(60)"
   ]
  },
  {
   "cell_type": "code",
   "execution_count": 110,
   "metadata": {},
   "outputs": [
    {
     "data": {
      "text/plain": [
       "[('#KAG2020', 1),\n",
       " ('#MAGA', 1),\n",
       " ('#VOTE', 1),\n",
       " ('#MAGA🇺🇸🦅rally', 1),\n",
       " ('#VOTE', 1),\n",
       " ('#2A,', 1),\n",
       " ('#VOTE', 1),\n",
       " ('#MAGA', 1),\n",
       " ('\"#VoteEarlyDay', 1),\n",
       " ('#MAGA🇺🇸', 1)]"
      ]
     },
     "execution_count": 110,
     "metadata": {},
     "output_type": "execute_result"
    }
   ],
   "source": [
    "# split each tweet into words\n",
    "words = rdd_tweets.flatMap(lambda line: line.split(\" \"))\n",
    "\n",
    "# filter the words to get only hashtags, then map each hashtag to be a pair of (hashtag,1)\n",
    "hashtags = words.filter(lambda w: '#' in w).map(lambda x: (x, 1))\n",
    "hashtags.take(10)"
   ]
  },
  {
   "cell_type": "code",
   "execution_count": 111,
   "metadata": {},
   "outputs": [
    {
     "data": {
      "text/plain": [
       "[('#Trump2016', 395),\n",
       " ('#MAGA', 340),\n",
       " ('#MakeAmericaGreatAgain', 258),\n",
       " ('#1', 108),\n",
       " ('#CelebApprentice', 95),\n",
       " ('#CelebrityApprentice', 83),\n",
       " ('#KAG2020', 61),\n",
       " ('#AmericaFirst', 61),\n",
       " ('#Trump2016\"\"\"\"', 59),\n",
       " ('#Trump', 57)]"
      ]
     },
     "execution_count": 111,
     "metadata": {},
     "output_type": "execute_result"
    }
   ],
   "source": [
    "hashtags_count = hashtags.reduceByKey(lambda x,y : x+y).sortBy(lambda tuple: tuple[1], ascending=False)\n",
    "hashtags_count.take(10)"
   ]
  },
  {
   "cell_type": "code",
   "execution_count": 112,
   "metadata": {},
   "outputs": [
    {
     "data": {
      "text/plain": [
       "[('@CBS_Herridge:', 1),\n",
       " ('@MZHemingway:', 1),\n",
       " ('@WhiteHouse:', 1),\n",
       " ('@realDonaldTrump', 1),\n",
       " ('@EricTrump:', 1),\n",
       " ('@GOPChairwoman:', 1),\n",
       " ('@realDonaldTrump', 1),\n",
       " ('@TomFitton:', 1),\n",
       " ('@RealDonaldTrump', 1),\n",
       " ('@marklevinshow:', 1)]"
      ]
     },
     "execution_count": 112,
     "metadata": {},
     "output_type": "execute_result"
    }
   ],
   "source": [
    "# filter the words to get only references, then map each reference to be a pair of (reference,1)\n",
    "references = words.filter(lambda w: '@' in w).map(lambda x: (x, 1))\n",
    "references.take(10)"
   ]
  },
  {
   "cell_type": "code",
   "execution_count": 113,
   "metadata": {},
   "outputs": [
    {
     "data": {
      "text/plain": [
       "[('@realDonaldTrump', 8553),\n",
       " ('@realDonaldTrump:', 1087),\n",
       " ('@WhiteHouse:', 658),\n",
       " ('@FoxNews', 519),\n",
       " ('@BarackObama', 474),\n",
       " ('@foxandfriends', 449),\n",
       " ('@ApprenticeNBC', 296),\n",
       " ('@CNN', 276),\n",
       " ('@TeamTrump:', 276),\n",
       " ('@GOPChairwoman:', 212)]"
      ]
     },
     "execution_count": 113,
     "metadata": {},
     "output_type": "execute_result"
    }
   ],
   "source": [
    "references_count = references.reduceByKey(lambda x,y : x+y).sortBy(lambda tuple: tuple[1], ascending=False)\n",
    "references_count.take(10)"
   ]
  },
  {
   "cell_type": "code",
   "execution_count": 114,
   "metadata": {},
   "outputs": [
    {
     "data": {
      "text/plain": [
       "['republicans',\n",
       " 'and',\n",
       " 'democrats',\n",
       " 'have',\n",
       " 'both',\n",
       " 'created',\n",
       " 'our',\n",
       " 'economic',\n",
       " 'problems',\n",
       " '02/08/2011']"
      ]
     },
     "execution_count": 114,
     "metadata": {},
     "output_type": "execute_result"
    }
   ],
   "source": [
    "#Apply a function called “Func” to lower the case of each word \n",
    "def Func(lines):\n",
    "      lines = lines.lower()\n",
    "      lines = lines.split()\n",
    "      return lines\n",
    "rdd_tweets_words_lower = rdd_tweets_words.flatMap(Func)\n",
    "rdd_tweets_words_lower.take(10)"
   ]
  },
  {
   "cell_type": "code",
   "execution_count": 115,
   "metadata": {},
   "outputs": [
    {
     "data": {
      "text/plain": [
       "[('republicans', 1),\n",
       " ('and', 1),\n",
       " ('democrats', 1),\n",
       " ('have', 1),\n",
       " ('both', 1),\n",
       " ('created', 1),\n",
       " ('our', 1),\n",
       " ('economic', 1),\n",
       " ('problems', 1),\n",
       " ('02/08/2011', 1)]"
      ]
     },
     "execution_count": 115,
     "metadata": {},
     "output_type": "execute_result"
    }
   ],
   "source": [
    "# initialize an rdd with key/value for counting each word in the file \n",
    "\n",
    "rdd_tweets_words_kv = rdd_tweets_words_lower.map(lambda word: (word, 1))\n",
    "\n",
    "rdd_tweets_words_kv.take(10)"
   ]
  },
  {
   "cell_type": "code",
   "execution_count": 116,
   "metadata": {},
   "outputs": [
    {
     "data": {
      "text/plain": [
       "['a+', 'abound', 'abounds', 'abundance', 'abundant']"
      ]
     },
     "execution_count": 116,
     "metadata": {},
     "output_type": "execute_result"
    }
   ],
   "source": [
    "# we read the positive words\n",
    "\n",
    "rdd_positive_words = sc.textFile('positive-words.txt')\n",
    "\n",
    "rdd_positive_words.take(5)"
   ]
  },
  {
   "cell_type": "code",
   "execution_count": 117,
   "metadata": {},
   "outputs": [
    {
     "data": {
      "text/plain": [
       "[('a+', 1), ('abound', 1), ('abounds', 1), ('abundance', 1), ('abundant', 1)]"
      ]
     },
     "execution_count": 117,
     "metadata": {},
     "output_type": "execute_result"
    }
   ],
   "source": [
    "# initialize an rdd with key/value for counting each positive word in the file \n",
    "\n",
    "\n",
    "rdd_positive_words_kv = rdd_positive_words.map(lambda word: (word, 1))\n",
    "\n",
    "rdd_positive_words_kv.take(5)"
   ]
  },
  {
   "cell_type": "code",
   "execution_count": 118,
   "metadata": {},
   "outputs": [
    {
     "data": {
      "text/plain": [
       "[('thrilled', (1, 1)),\n",
       " ('thrilled', (1, 1)),\n",
       " ('thrilled', (1, 1)),\n",
       " ('thrilled', (1, 1)),\n",
       " ('thrilled', (1, 1))]"
      ]
     },
     "execution_count": 118,
     "metadata": {},
     "output_type": "execute_result"
    }
   ],
   "source": [
    "# rdd_positive_words_tweets_kv RDD should contain positive words in the product review file\n",
    "\n",
    "rdd_positive_words_tweets_kv = rdd_tweets_words_kv.join(rdd_positive_words_kv)\n",
    "\n",
    "rdd_positive_words_tweets_kv.take(5)"
   ]
  },
  {
   "cell_type": "code",
   "execution_count": 119,
   "metadata": {},
   "outputs": [
    {
     "data": {
      "text/plain": [
       "[('thrilled', 1),\n",
       " ('thrilled', 1),\n",
       " ('thrilled', 1),\n",
       " ('thrilled', 1),\n",
       " ('thrilled', 1)]"
      ]
     },
     "execution_count": 119,
     "metadata": {},
     "output_type": "execute_result"
    }
   ],
   "source": [
    "# use the mapValues transformation to assign a default count of 1 for each positive word\n",
    "\n",
    "rdd_positive_words_tweets_kv = rdd_positive_words_tweets_kv.mapValues(lambda tuple: 1)\n",
    "\n",
    "rdd_positive_words_tweets_kv.take(5)"
   ]
  },
  {
   "cell_type": "code",
   "execution_count": 120,
   "metadata": {},
   "outputs": [
    {
     "data": {
      "text/plain": [
       "[('thrilled', 48),\n",
       " ('wonderful', 470),\n",
       " ('right', 753),\n",
       " ('sustainable', 1),\n",
       " ('best', 1130)]"
      ]
     },
     "execution_count": 120,
     "metadata": {},
     "output_type": "execute_result"
    }
   ],
   "source": [
    "# rdd_positive_words_tweets_count_kv should contain the number of occurences (count) of each positive word in tweets\n",
    "\n",
    "rdd_positive_words_tweets_count_kv = rdd_positive_words_tweets_kv.reduceByKey(lambda x,y : x+y)\n",
    "\n",
    "\n",
    "rdd_positive_words_tweets_count_kv.take(5)"
   ]
  },
  {
   "cell_type": "code",
   "execution_count": 121,
   "metadata": {},
   "outputs": [
    {
     "data": {
      "text/plain": [
       "[('great', 6898),\n",
       " ('trump', 4845),\n",
       " ('thank', 3443),\n",
       " ('like', 1977),\n",
       " ('good', 1669),\n",
       " ('best', 1130),\n",
       " ('love', 1122),\n",
       " ('win', 866),\n",
       " ('work', 856),\n",
       " ('right', 753),\n",
       " ('better', 750),\n",
       " ('strong', 692),\n",
       " ('well', 609),\n",
       " ('support', 564),\n",
       " ('congratulations', 561),\n",
       " ('happy', 551),\n",
       " ('amazing', 504),\n",
       " ('wonderful', 470),\n",
       " ('nice', 450),\n",
       " ('honor', 436),\n",
       " ('beautiful', 394),\n",
       " ('important', 393),\n",
       " ('fantastic', 364),\n",
       " ('enjoy', 362),\n",
       " ('incredible', 360)]"
      ]
     },
     "execution_count": 121,
     "metadata": {},
     "output_type": "execute_result"
    }
   ],
   "source": [
    "# rdd_positive_words_tweets_count_kv_ordered should contain the previous RDD in descending order based on the count\n",
    "\n",
    "rdd_positive_words_tweets_count_kv_ordered = rdd_positive_words_tweets_count_kv.sortBy(lambda tuple: tuple[1], ascending=False)\n",
    "\n",
    "list_top_positives_opinion = rdd_positive_words_tweets_count_kv_ordered.take(25)\n",
    "\n",
    "list_top_positives_opinion"
   ]
  },
  {
   "cell_type": "code",
   "execution_count": 122,
   "metadata": {},
   "outputs": [
    {
     "data": {
      "text/plain": [
       "['2-faced', '2-faces', 'abnormal', 'abolish', 'abominable']"
      ]
     },
     "execution_count": 122,
     "metadata": {},
     "output_type": "execute_result"
    }
   ],
   "source": [
    "rdd_negative_words = sc.textFile('negative-words.txt')\n",
    "\n",
    "rdd_negative_words.take(5)"
   ]
  },
  {
   "cell_type": "code",
   "execution_count": 123,
   "metadata": {},
   "outputs": [
    {
     "data": {
      "text/plain": [
       "[('2-faced', 1),\n",
       " ('2-faces', 1),\n",
       " ('abnormal', 1),\n",
       " ('abolish', 1),\n",
       " ('abominable', 1)]"
      ]
     },
     "execution_count": 123,
     "metadata": {},
     "output_type": "execute_result"
    }
   ],
   "source": [
    "# initialize an rdd with key/value for counting each negative word in the file \n",
    "\n",
    "rdd_negative_words_kv = rdd_negative_words.map(lambda word: (word, 1))\n",
    "\n",
    "rdd_negative_words_kv.take(5)"
   ]
  },
  {
   "cell_type": "code",
   "execution_count": 124,
   "metadata": {},
   "outputs": [
    {
     "data": {
      "text/plain": [
       "[('threat', (1, 1)),\n",
       " ('threat', (1, 1)),\n",
       " ('threat', (1, 1)),\n",
       " ('threat', (1, 1)),\n",
       " ('threat', (1, 1))]"
      ]
     },
     "execution_count": 124,
     "metadata": {},
     "output_type": "execute_result"
    }
   ],
   "source": [
    "# rdd_negative_words_tweets_kv RDD should contain negative words in the tweets file\n",
    "\n",
    "rdd_negative_words_tweets_kv = rdd_tweets_words_kv.join(rdd_negative_words_kv)\n",
    "\n",
    "rdd_negative_words_tweets_kv.take(5)"
   ]
  },
  {
   "cell_type": "code",
   "execution_count": 125,
   "metadata": {},
   "outputs": [
    {
     "data": {
      "text/plain": [
       "[('threat', 1), ('threat', 1), ('threat', 1), ('threat', 1), ('threat', 1)]"
      ]
     },
     "execution_count": 125,
     "metadata": {},
     "output_type": "execute_result"
    }
   ],
   "source": [
    "# use the mapValues transformation to assign a default count of 1 for each negative word\n",
    "\n",
    "rdd_negative_words_tweets_kv = rdd_negative_words_tweets_kv.mapValues(lambda tuple:1)\n",
    "\n",
    "rdd_negative_words_tweets_kv.take(5)"
   ]
  },
  {
   "cell_type": "code",
   "execution_count": 126,
   "metadata": {},
   "outputs": [
    {
     "data": {
      "text/plain": [
       "[('threat', 76),\n",
       " ('fraud', 154),\n",
       " ('dishonest', 187),\n",
       " ('lost', 336),\n",
       " ('killed', 163)]"
      ]
     },
     "execution_count": 126,
     "metadata": {},
     "output_type": "execute_result"
    }
   ],
   "source": [
    "# rdd_negative_words_tweets_count_kv should contain the number of occurences (count) of each negative word in tweets\n",
    "\n",
    "rdd_negative_words_tweets_count_kv = rdd_negative_words_tweets_kv.reduceByKey(lambda x,y: x+y)\n",
    "\n",
    "rdd_negative_words_tweets_count_kv.take(5)"
   ]
  },
  {
   "cell_type": "code",
   "execution_count": 127,
   "metadata": {},
   "outputs": [
    {
     "data": {
      "text/plain": [
       "[('fake', 1195),\n",
       " ('bad', 899),\n",
       " ('hard', 690),\n",
       " ('crime', 485),\n",
       " ('crooked', 435),\n",
       " ('illegal', 391),\n",
       " ('radical', 382),\n",
       " ('lost', 336),\n",
       " ('terrible', 325),\n",
       " ('corrupt', 324),\n",
       " ('wrong', 312),\n",
       " ('collusion', 296),\n",
       " ('sad', 273),\n",
       " ('miss', 270),\n",
       " ('attack', 257),\n",
       " ('failing', 250),\n",
       " ('failed', 247),\n",
       " ('worst', 245),\n",
       " ('crazy', 238),\n",
       " ('problem', 226),\n",
       " ('phony', 224),\n",
       " ('disaster', 217),\n",
       " ('weak', 215),\n",
       " ('badly', 210),\n",
       " ('hoax', 209)]"
      ]
     },
     "execution_count": 127,
     "metadata": {},
     "output_type": "execute_result"
    }
   ],
   "source": [
    "# rdd_negative_words_tweets_count_kv_ordered should contain the previous RDD in descending order based on the count\n",
    "\n",
    "rdd_negative_words_tweets_count_kv_ordered = rdd_negative_words_tweets_count_kv.sortBy(lambda tuple: tuple[1], ascending=False)\n",
    "\n",
    "list_top_negatives_opinion = rdd_negative_words_tweets_count_kv_ordered.take(25)\n",
    "\n",
    "list_top_negatives_opinion"
   ]
  },
  {
   "cell_type": "code",
   "execution_count": 128,
   "metadata": {},
   "outputs": [],
   "source": [
    "# the utility function plot_opinion plots a bar chart presenting top positives and top negatives words\n",
    "# the parameters are list of tuples containing counts from positives and negatives words\n",
    "\n",
    "from matplotlib import pyplot as plt\n",
    "import seaborn as sb\n",
    "\n",
    "import pandas as pd\n",
    "\n",
    "def plot_opinion(list_positives, list_negatives):\n",
    "    \n",
    "    list_1 = [(t[0], t[1], 'positive') for t in list_positives]\n",
    "    list_2 = [(t[0], t[1], 'negative') for t in list_negatives]\n",
    "    \n",
    "     \n",
    "    list_1.extend(list_2)\n",
    "    \n",
    "    \n",
    "    pd_df = pd.DataFrame({\n",
    "     'Opinion': [ t[0] for t in list_1 ],\n",
    "     'Count': [ t[1] for t in list_1 ],\n",
    "     'polarity': [ t[2] for t in list_1 ]\n",
    "    }).sort_values('Count', ascending=False)\n",
    "    \n",
    "    pd_df['color'] = pd_df.polarity.apply(lambda polarity: 'green' if polarity=='positive' else 'red')\n",
    "    \n",
    "    plt.figure( figsize = (15, 8) )\n",
    "    chart=sb.barplot(data=pd_df, x='Opinion', y='Count', hue='polarity', palette=[\"green\", \"red\"], order=pd_df['Opinion'])\n",
    "    chart.set_xticklabels(\n",
    "    chart.get_xticklabels(), \n",
    "    rotation=80, \n",
    "    horizontalalignment='right',\n",
    "    fontweight='light',\n",
    "    fontsize='x-large',\n",
    "    )\n",
    "    \n",
    "    for tick, color in zip(chart.get_xticklabels(), pd_df['color']): \n",
    "        tick.set_color(color)\n",
    "    \n",
    "    plt.show()"
   ]
  },
  {
   "cell_type": "code",
   "execution_count": 129,
   "metadata": {},
   "outputs": [
    {
     "data": {
      "image/png": "[encoded data removed]",
      "text/plain": [
       "<Figure size 1080x576 with 1 Axes>"
      ]
     },
     "metadata": {
      "needs_background": "light"
     },
     "output_type": "display_data"
    }
   ],
   "source": [
    "# call the plot_opinion function to plot tweets top positives and negatives words\n",
    "\n",
    "plot_opinion(list_top_positives_opinion, list_top_negatives_opinion)"
   ]
  },
  {
   "cell_type": "code",
   "execution_count": 172,
   "metadata": {},
   "outputs": [
    {
     "data": {
      "text/plain": [
       "['a', 'about', 'above', 'across', 'after']"
      ]
     },
     "execution_count": 172,
     "metadata": {},
     "output_type": "execute_result"
    }
   ],
   "source": [
    "# we read our stop words\n",
    "#add some stop words: @realdonaldtrump; @realdonaldtrump:; &amp; donald; don’t\n",
    "rdd_stop_words = sc.textFile('stop-words.txt')\n",
    "\n",
    "rdd_stop_words.take(5)"
   ]
  },
  {
   "cell_type": "code",
   "execution_count": 131,
   "metadata": {},
   "outputs": [
    {
     "data": {
      "text/plain": [
       "['action',\n",
       " 'action',\n",
       " 'action',\n",
       " 'action',\n",
       " 'action',\n",
       " 'action',\n",
       " 'action',\n",
       " 'action',\n",
       " 'action',\n",
       " 'action',\n",
       " 'action',\n",
       " 'action',\n",
       " 'action',\n",
       " 'action',\n",
       " 'action',\n",
       " 'action',\n",
       " 'action',\n",
       " 'action',\n",
       " 'action',\n",
       " 'action']"
      ]
     },
     "execution_count": 131,
     "metadata": {},
     "output_type": "execute_result"
    }
   ],
   "source": [
    "# compute the neutral/contextual words RDD by using rdd_product_words, rdd_positive_words, rdd_negative_words and rdd_stop_words\n",
    "# neutral words are words in product reviews file, that are not positive words or negative words or stop words\n",
    "# tip: you can use the subtract transformation on RDD see documentation \n",
    "# http://spark.apache.org/docs/latest/api/python/pyspark.html#pyspark.RDD\n",
    "\n",
    "contextual_words = rdd_tweets_words_lower.subtract(rdd_positive_words).subtract(rdd_negative_words).subtract(rdd_stop_words)\n",
    "\n",
    "contextual_words.take(20)"
   ]
  },
  {
   "cell_type": "code",
   "execution_count": 132,
   "metadata": {},
   "outputs": [
    {
     "data": {
      "text/plain": [
       "[('rt', 7902),\n",
       " ('president', 3619),\n",
       " ('just', 3239),\n",
       " ('people', 2953),\n",
       " ('new', 2432),\n",
       " ('big', 1881),\n",
       " ('america', 1808),\n",
       " ('make', 1804),\n",
       " ('country', 1690),\n",
       " ('time', 1597),\n",
       " ('\"rt', 1579),\n",
       " ('democrats', 1568),\n",
       " ('obama', 1495),\n",
       " ('news', 1486),\n",
       " ('going', 1474),\n",
       " ('want', 1375),\n",
       " ('vote', 1373),\n",
       " ('american', 1367),\n",
       " ('thanks', 1299),\n",
       " ('need', 1172),\n",
       " ('today', 1168),\n",
       " ('u.s.', 1149),\n",
       " ('think', 1086),\n",
       " ('doing', 1081),\n",
       " ('run', 1072),\n",
       " ('really', 1069),\n",
       " ('job', 1044),\n",
       " ('did', 1030),\n",
       " ('media', 1013),\n",
       " ('know', 999),\n",
       " ('years', 976),\n",
       " ('china', 957),\n",
       " ('said', 951),\n",
       " ('way', 925),\n",
       " ('house', 871),\n",
       " (\"don't\", 871),\n",
       " ('day', 868),\n",
       " ('jobs', 858),\n",
       " ('united', 857),\n",
       " ('state', 840),\n",
       " ('biden', 839),\n",
       " ('got', 827),\n",
       " ('hillary', 821),\n",
       " ('states', 816),\n",
       " ('total', 808),\n",
       " ('look', 787),\n",
       " ('border', 786),\n",
       " ('national', 773),\n",
       " ('don’t', 754),\n",
       " ('joe', 749)]"
      ]
     },
     "execution_count": 132,
     "metadata": {},
     "output_type": "execute_result"
    }
   ],
   "source": [
    "# use multiple transformations for counting each contextual word in the product review file, sorted in ascending order based \n",
    "# on the count\n",
    "\n",
    "contextual_words_count_ordered = contextual_words.map(lambda word: (word, 1))\\\n",
    "                                                 .reduceByKey(lambda x,y : x+y)\\\n",
    "                                                 .sortBy(lambda tuple: tuple[1], ascending=False)\n",
    "\n",
    "list_top_contextual_words = contextual_words_count_ordered.take(50)  \n",
    "\n",
    "list_top_contextual_words"
   ]
  },
  {
   "cell_type": "code",
   "execution_count": 133,
   "metadata": {},
   "outputs": [],
   "source": [
    "# the utility function plot_contextual_words plots a bar chart presenting top contextual words\n",
    "# the parameter are list of tuples containing counts from contextual words\n",
    "\n",
    "def plot_contextual_words(list_contextual_words):\n",
    "    \n",
    "    pd_df = pd.DataFrame({\n",
    "        'Word':  [ t[0] for t in list_contextual_words ],\n",
    "        'Count': [ t[1] for t in list_contextual_words ]\n",
    "    }).sort_values('Count', ascending=False)\n",
    "    \n",
    "    plt.figure( figsize = (15, 8) )\n",
    "    \n",
    "    chart=sb.barplot(data=pd_df, x='Word', y='Count', order=pd_df['Word'], color='blue')\n",
    "    \n",
    "    chart.set_xticklabels(\n",
    "        chart.get_xticklabels(), \n",
    "        rotation=80, \n",
    "        horizontalalignment='right',\n",
    "        fontweight='light',\n",
    "        fontsize='x-large',\n",
    "        )\n",
    "    \n",
    "    plt.show()"
   ]
  },
  {
   "cell_type": "code",
   "execution_count": 134,
   "metadata": {},
   "outputs": [
    {
     "data": {
      "image/png": "[encoded data removed]",
      "text/plain": [
       "<Figure size 1080x576 with 1 Axes>"
      ]
     },
     "metadata": {
      "needs_background": "light"
     },
     "output_type": "display_data"
    }
   ],
   "source": [
    "# call the plot_contextual_words function to plot tweets top contextual words\n",
    "\n",
    "plot_contextual_words(list_top_contextual_words)"
   ]
  },
  {
   "cell_type": "code",
   "execution_count": 135,
   "metadata": {},
   "outputs": [
    {
     "name": "stdout",
     "output_type": "stream",
     "text": [
      "The sentiment score is :  22680\n"
     ]
    }
   ],
   "source": [
    "# Compute the global sentiment score: the total count of positive words (e.g. use rdd_positive_words_product_count_kv) minus\n",
    "# the total count of negative words (e.g. use rdd_negative_words_product_count_kv)\n",
    "\n",
    "\n",
    "sentiment_score = rdd_positive_words_tweets_count_kv.map(lambda tuple: tuple[1]).sum()\\\n",
    "                  - rdd_negative_words_tweets_count_kv.map(lambda tuple: tuple[1]).sum()\n",
    "\n",
    "print('The sentiment score is : ',sentiment_score)"
   ]
  },
  {
   "cell_type": "code",
   "execution_count": 183,
   "metadata": {},
   "outputs": [
    {
     "data": {
      "text/plain": [
       "['Republicans and Democrats have both created our economic problems.;02/08/2011 18:07:48',\n",
       " 'I was thrilled to be back in the Great city of Charlotte, North Carolina with thousands of hardworking American Patriots who love our Country, cherish our values, respect our laws, and always put AMERICA FIRST! Thank you for a wonderful evening!! #KAG2020 https://t.co/dNJZfRsl9y;03/03/2020 01:34:50',\n",
       " 'The Unsolicited Mail In Ballot Scam is a major threat to our Democracy, &amp  the Democrats know it. Almost all recent elections using this system, even though much smaller &amp   with far fewer Ballots to count, have ended up being a disaster. Large numbers of missing Ballots &amp  Fraud!;12/09/2020 20:10:58',\n",
       " '“I’m running as a proud Democrat, for the Senate”. Sleepy Joe Biden today. It’s only going to get worse. It is not sustainable for our County - China will own us!!!!;12/10/2020 22:22:39',\n",
       " 'Getting a little exercise this morning! https://t.co/fyAAcbhbgk;01/02/2020 16:14:02',\n",
       " 'https://t.co/4qwCKQOiOw;23/10/2020 04:52:14',\n",
       " 'https://t.co/VlEu8yyovv;23/10/2020 04:46:53',\n",
       " 'https://t.co/z5CRqHO8vg;23/10/2020 04:46:49',\n",
       " 'https://t.co/TQCQiDrVOB;23/10/2020 04:46:45',\n",
       " '']"
      ]
     },
     "execution_count": 183,
     "metadata": {},
     "output_type": "execute_result"
    }
   ],
   "source": [
    "#You can explore all these points over the time (per month or per year for instance), \n",
    "#and make a differentiation between original tweets and retweets (RT).\n",
    "\n",
    "\n",
    "#original tweets\n",
    "rdd_original_tweets  = rdd_tweets.filter(lambda line: \"RT\" not in line)\n",
    "rdd_original_tweets.take(10)"
   ]
  },
  {
   "cell_type": "code",
   "execution_count": 190,
   "metadata": {},
   "outputs": [
    {
     "data": {
      "text/plain": [
       "48618"
      ]
     },
     "execution_count": 190,
     "metadata": {},
     "output_type": "execute_result"
    }
   ],
   "source": [
    "#Number of original tweets\n",
    "\n",
    "rdd_original_tweets.count()"
   ]
  },
  {
   "cell_type": "code",
   "execution_count": 189,
   "metadata": {},
   "outputs": [
    {
     "data": {
      "text/plain": [
       "['RT @CBS_Herridge: READ: Letter to surveillance court obtained by CBS News questions where there will be further disciplinary action and cho…;17/01/2020 03:22:47',\n",
       " \"RT @MZHemingway: Very friendly telling of events here about Comey's apparent leaking to compliant media. If you read those articles and tho…;17/01/2020 13:13:59\",\n",
       " 'RT @WhiteHouse: President @realDonaldTrump announced historic steps to protect the Constitutional right to pray in public schools! https://…;17/01/2020 00:11:56',\n",
       " 'RT @EricTrump: https://t.co/NcrNdOSfIV;23/10/2020 04:30:19',\n",
       " '\"RT @GOPChairwoman: The economic boom continues!',\n",
       " \"RT @TomFitton: Vindman's behavior is a scandal. He should be removed from the @RealDonaldTrump White House ASAP to protect our foreign poli…;07/02/2020 17:35:20\",\n",
       " \"RT @marklevinshow: President Trump was outstanding.\\xa0 I couldn't be prouder.\\xa0 Biden was making faces and was very dishonest about some of hi…;23/10/2020 03:58:38\",\n",
       " 'RT @RealRLimbaugh: Winning, winning, winning! @realDonaldTrump;23/10/2020 03:57:45',\n",
       " 'RT @TheRightMelissa: I guarantee it was the 1st time millions of Americans learned the “kids in cages” was Obama not Trump because the medi…;23/10/2020 15:06:21',\n",
       " 'RT @megynkelly: Trump won this debate, handily. Biden wasn’t a force at all. Trump was substantive, on-point, well-tempered. Definitely hel…;23/10/2020 03:57:21']"
      ]
     },
     "execution_count": 189,
     "metadata": {},
     "output_type": "execute_result"
    }
   ],
   "source": [
    "#Retweets\n",
    "\n",
    "rdd_retweets = rdd_tweets.filter(lambda line: \"RT\" in line)\n",
    "rdd_retweets.take(10)\n"
   ]
  },
  {
   "cell_type": "code",
   "execution_count": 188,
   "metadata": {},
   "outputs": [
    {
     "data": {
      "text/plain": [
       "10063"
      ]
     },
     "execution_count": 188,
     "metadata": {},
     "output_type": "execute_result"
    }
   ],
   "source": [
    "#Number of retweets\n",
    "\n",
    "rdd_retweets.count()"
   ]
  },
  {
   "cell_type": "markdown",
   "metadata": {},
   "source": [
    "Comparison between original tweets and retweets"
   ]
  },
  {
   "cell_type": "code",
   "execution_count": 97,
   "metadata": {},
   "outputs": [
    {
     "data": {
      "text/plain": [
       "[('#KAG2020', 1),\n",
       " ('#MAGA', 1),\n",
       " ('#VOTE', 1),\n",
       " ('#VOTE', 1),\n",
       " ('#2A,', 1),\n",
       " ('#VOTE', 1),\n",
       " ('#MAGA', 1),\n",
       " ('\"#VoteEarlyDay', 1),\n",
       " ('#MAGA🇺🇸', 1),\n",
       " ('#MAGA', 1)]"
      ]
     },
     "execution_count": 97,
     "metadata": {},
     "output_type": "execute_result"
    }
   ],
   "source": [
    "### Analysis of original tweets\n",
    "\n",
    "\n",
    "# split each tweet into words\n",
    "words_ot = rdd_original_tweets.flatMap(lambda line: line.split(\" \"))\n",
    "\n",
    "# filter the words to get only hashtags, then map each hashtag to be a pair of (hashtag,1)\n",
    "hashtags_ot = words_ot.filter(lambda w: '#' in w).map(lambda x: (x, 1))\n",
    "hashtags_ot.take(10)"
   ]
  },
  {
   "cell_type": "code",
   "execution_count": 98,
   "metadata": {},
   "outputs": [
    {
     "data": {
      "text/plain": [
       "[('#Trump2016', 382),\n",
       " ('#MAGA', 280),\n",
       " ('#MakeAmericaGreatAgain', 245),\n",
       " ('#1', 102),\n",
       " ('#CelebApprentice', 95),\n",
       " ('#CelebrityApprentice', 83),\n",
       " ('#Trump2016\"\"\"\"', 59),\n",
       " ('#KAG2020', 53),\n",
       " ('#VoteTrump', 53),\n",
       " ('#AmericaFirst', 52)]"
      ]
     },
     "execution_count": 98,
     "metadata": {},
     "output_type": "execute_result"
    }
   ],
   "source": [
    "hashtags_ot_count = hashtags_ot.reduceByKey(lambda x,y : x+y).sortBy(lambda tuple: tuple[1], ascending=False)\n",
    "hashtags_ot_count.take(10)"
   ]
  },
  {
   "cell_type": "code",
   "execution_count": 99,
   "metadata": {},
   "outputs": [
    {
     "data": {
      "text/plain": [
       "[('@realDonaldTrump', 1),\n",
       " ('@JoeBiden...', 1),\n",
       " ('@JesseBWatters', 1),\n",
       " ('@realDona…\";25/10/2020', 1),\n",
       " ('@POTUS', 1),\n",
       " ('@JohnJamesMI', 1),\n",
       " ('.@SeanParnellUSA', 1),\n",
       " ('@SeanParnellUSA,', 1),\n",
       " ('@TheJusticeDept;25/10/2020', 1),\n",
       " ('@SenRonJohnson', 1)]"
      ]
     },
     "execution_count": 99,
     "metadata": {},
     "output_type": "execute_result"
    }
   ],
   "source": [
    "# filter the words to get only references, then map each reference to be a pair of (reference,1)\n",
    "references_ot = words_ot.filter(lambda w: '@' in w).map(lambda x: (x, 1))\n",
    "references_ot.take(10)"
   ]
  },
  {
   "cell_type": "code",
   "execution_count": 100,
   "metadata": {},
   "outputs": [
    {
     "data": {
      "text/plain": [
       "[('@realDonaldTrump', 7411),\n",
       " ('@FoxNews', 480),\n",
       " ('@BarackObama', 469),\n",
       " ('@foxandfriends', 423),\n",
       " ('@ApprenticeNBC', 294),\n",
       " ('@CNN', 261),\n",
       " ('@MittRomney', 189),\n",
       " ('@seanhannity', 157),\n",
       " ('@nytimes', 141),\n",
       " ('@megynkelly', 128)]"
      ]
     },
     "execution_count": 100,
     "metadata": {},
     "output_type": "execute_result"
    }
   ],
   "source": [
    "references_ot_count = references_ot.reduceByKey(lambda x,y : x+y).sortBy(lambda tuple: tuple[1], ascending=False)\n",
    "references_ot_count.take(10)"
   ]
  },
  {
   "cell_type": "code",
   "execution_count": 101,
   "metadata": {},
   "outputs": [
    {
     "data": {
      "text/plain": [
       "['Republicans',\n",
       " 'and',\n",
       " 'Democrats',\n",
       " 'have',\n",
       " 'both',\n",
       " 'created',\n",
       " 'our',\n",
       " 'economic',\n",
       " 'problems',\n",
       " '02/08/2011']"
      ]
     },
     "execution_count": 101,
     "metadata": {},
     "output_type": "execute_result"
    }
   ],
   "source": [
    "# compute an rdd with individual words (rdd_original_tweets_words) from the rdd_product by using the previous function\n",
    "# rdd_original_tweets_words should not contain empty strings\n",
    "\n",
    "rdd_original_tweets_words = rdd_original_tweets.flatMap(split_with_multiple_separator).filter(lambda word: word!='')\n",
    "rdd_original_tweets_words.take(10)\n"
   ]
  },
  {
   "cell_type": "code",
   "execution_count": 147,
   "metadata": {},
   "outputs": [
    {
     "data": {
      "text/plain": [
       "['Republicans',\n",
       " 'and',\n",
       " 'Democrats',\n",
       " 'have',\n",
       " 'both',\n",
       " 'created',\n",
       " 'our',\n",
       " 'economic',\n",
       " 'problems',\n",
       " '02/08/2011',\n",
       " '18:07:48',\n",
       " 'I',\n",
       " 'was',\n",
       " 'thrilled',\n",
       " 'to',\n",
       " 'be',\n",
       " 'back',\n",
       " 'in',\n",
       " 'the',\n",
       " 'Great',\n",
       " 'city',\n",
       " 'of',\n",
       " 'Charlotte',\n",
       " 'North',\n",
       " 'Carolina',\n",
       " 'with',\n",
       " 'thousands',\n",
       " 'of',\n",
       " 'hardworking',\n",
       " 'American',\n",
       " 'Patriots',\n",
       " 'who',\n",
       " 'love',\n",
       " 'our',\n",
       " 'Country',\n",
       " 'cherish',\n",
       " 'our',\n",
       " 'values',\n",
       " 'respect',\n",
       " 'our',\n",
       " 'laws',\n",
       " 'and',\n",
       " 'always',\n",
       " 'put',\n",
       " 'AMERICA',\n",
       " 'FIRST!',\n",
       " 'Thank',\n",
       " 'you',\n",
       " 'for',\n",
       " 'a',\n",
       " 'wonderful',\n",
       " 'evening!!',\n",
       " 'KAG2020',\n",
       " '03/03/2020',\n",
       " '01:34:50',\n",
       " 'The',\n",
       " 'Unsolicited',\n",
       " 'Mail',\n",
       " 'In',\n",
       " 'Ballot']"
      ]
     },
     "execution_count": 147,
     "metadata": {},
     "output_type": "execute_result"
    }
   ],
   "source": [
    "#delete \"https\"\n",
    "\n",
    "rdd_original_tweets_words = rdd_original_tweets_words.filter(lambda line: delhttps(line) != 1)\n",
    "rdd_original_tweets_words.take(60)"
   ]
  },
  {
   "cell_type": "code",
   "execution_count": 148,
   "metadata": {},
   "outputs": [
    {
     "data": {
      "text/plain": [
       "['republicans',\n",
       " 'and',\n",
       " 'democrats',\n",
       " 'have',\n",
       " 'both',\n",
       " 'created',\n",
       " 'our',\n",
       " 'economic',\n",
       " 'problems',\n",
       " '02/08/2011']"
      ]
     },
     "execution_count": 148,
     "metadata": {},
     "output_type": "execute_result"
    }
   ],
   "source": [
    "#Apply a function called “Func” to lower the case of each word \n",
    "def Func(lines):\n",
    "      lines = lines.lower()\n",
    "      lines = lines.split()\n",
    "      return lines\n",
    "    \n",
    "rdd_original_tweets_words_lower = rdd_original_tweets_words.flatMap(Func)\n",
    "rdd_original_tweets_words_lower.take(10)"
   ]
  },
  {
   "cell_type": "code",
   "execution_count": 104,
   "metadata": {},
   "outputs": [
    {
     "data": {
      "text/plain": [
       "[('republicans', 1),\n",
       " ('and', 1),\n",
       " ('democrats', 1),\n",
       " ('have', 1),\n",
       " ('both', 1),\n",
       " ('created', 1),\n",
       " ('our', 1),\n",
       " ('economic', 1),\n",
       " ('problems', 1),\n",
       " ('02/08/2011', 1)]"
      ]
     },
     "execution_count": 104,
     "metadata": {},
     "output_type": "execute_result"
    }
   ],
   "source": [
    "# initialize an rdd with key/value for counting each word in the file \n",
    "\n",
    "rdd_original_tweets_words_kv = rdd_original_tweets_words_lower.map(lambda word: (word, 1))\n",
    "\n",
    "rdd_original_tweets_words_kv.take(10)"
   ]
  },
  {
   "cell_type": "code",
   "execution_count": 136,
   "metadata": {},
   "outputs": [
    {
     "data": {
      "text/plain": [
       "[('thrilled', (1, 1)),\n",
       " ('thrilled', (1, 1)),\n",
       " ('thrilled', (1, 1)),\n",
       " ('thrilled', (1, 1)),\n",
       " ('thrilled', (1, 1))]"
      ]
     },
     "execution_count": 136,
     "metadata": {},
     "output_type": "execute_result"
    }
   ],
   "source": [
    "# rdd_positive_words_0t_kv RDD should contain positive words in the product review file\n",
    "\n",
    "rdd_positive_words_ot_kv = rdd_original_tweets_words_kv.join(rdd_positive_words_kv)\n",
    "\n",
    "rdd_positive_words_ot_kv.take(5)"
   ]
  },
  {
   "cell_type": "code",
   "execution_count": 137,
   "metadata": {},
   "outputs": [
    {
     "data": {
      "text/plain": [
       "[('thrilled', 1),\n",
       " ('thrilled', 1),\n",
       " ('thrilled', 1),\n",
       " ('thrilled', 1),\n",
       " ('thrilled', 1)]"
      ]
     },
     "execution_count": 137,
     "metadata": {},
     "output_type": "execute_result"
    }
   ],
   "source": [
    "# use the mapValues transformation to assign a default count of 1 for each positive word\n",
    "\n",
    "rdd_positive_words_ot_kv = rdd_positive_words_ot_kv.mapValues(lambda tuple: 1)\n",
    "\n",
    "rdd_positive_words_ot_kv.take(5)"
   ]
  },
  {
   "cell_type": "code",
   "execution_count": 138,
   "metadata": {},
   "outputs": [
    {
     "data": {
      "text/plain": [
       "[('thrilled', 43),\n",
       " ('wonderful', 451),\n",
       " ('sustainable', 1),\n",
       " ('best', 1027),\n",
       " ('like', 1794)]"
      ]
     },
     "execution_count": 138,
     "metadata": {},
     "output_type": "execute_result"
    }
   ],
   "source": [
    "# rdd_positive_words_ot_count_kv should contain the number of occurences (count) of each positive word in tweets\n",
    "\n",
    "rdd_positive_words_ot_count_kv = rdd_positive_words_ot_kv.reduceByKey(lambda x,y : x+y)\n",
    "\n",
    "\n",
    "rdd_positive_words_ot_count_kv.take(5)"
   ]
  },
  {
   "cell_type": "code",
   "execution_count": 139,
   "metadata": {},
   "outputs": [
    {
     "data": {
      "text/plain": [
       "[('great', 6501),\n",
       " ('trump', 3919),\n",
       " ('thank', 3171),\n",
       " ('like', 1794),\n",
       " ('good', 1561),\n",
       " ('love', 1041),\n",
       " ('best', 1027),\n",
       " ('win', 786),\n",
       " ('work', 751),\n",
       " ('better', 698),\n",
       " ('right', 641),\n",
       " ('strong', 609),\n",
       " ('well', 561),\n",
       " ('congratulations', 512),\n",
       " ('happy', 484),\n",
       " ('amazing', 457),\n",
       " ('wonderful', 451),\n",
       " ('nice', 437),\n",
       " ('support', 412),\n",
       " ('honor', 377),\n",
       " ('beautiful', 372),\n",
       " ('fantastic', 346),\n",
       " ('enjoy', 344),\n",
       " ('important', 330),\n",
       " ('tough', 309)]"
      ]
     },
     "execution_count": 139,
     "metadata": {},
     "output_type": "execute_result"
    }
   ],
   "source": [
    "# rdd_positive_words_ot_count_kv_ordered should contain the previous RDD in descending order based on the count\n",
    "\n",
    "rdd_positive_words_ot_count_kv_ordered = rdd_positive_words_ot_count_kv.sortBy(lambda tuple: tuple[1], ascending=False)\n",
    "\n",
    "list_top_positives_opinion_ot = rdd_positive_words_ot_count_kv_ordered.take(25)\n",
    "\n",
    "list_top_positives_opinion_ot"
   ]
  },
  {
   "cell_type": "code",
   "execution_count": 140,
   "metadata": {},
   "outputs": [
    {
     "data": {
      "text/plain": [
       "[('threat', (1, 1)),\n",
       " ('threat', (1, 1)),\n",
       " ('threat', (1, 1)),\n",
       " ('threat', (1, 1)),\n",
       " ('threat', (1, 1))]"
      ]
     },
     "execution_count": 140,
     "metadata": {},
     "output_type": "execute_result"
    }
   ],
   "source": [
    "# rdd_negative_words_ot_kv RDD should contain negative words in the tweets file\n",
    "\n",
    "rdd_negative_words_ot_kv = rdd_original_tweets_words_kv.join(rdd_negative_words_kv)\n",
    "\n",
    "rdd_negative_words_ot_kv.take(5)"
   ]
  },
  {
   "cell_type": "code",
   "execution_count": 141,
   "metadata": {},
   "outputs": [
    {
     "data": {
      "text/plain": [
       "[('threat', 1), ('threat', 1), ('threat', 1), ('threat', 1), ('threat', 1)]"
      ]
     },
     "execution_count": 141,
     "metadata": {},
     "output_type": "execute_result"
    }
   ],
   "source": [
    "# use the mapValues transformation to assign a default count of 1 for each negative word\n",
    "\n",
    "rdd_negative_words_ot_kv = rdd_negative_words_ot_kv.mapValues(lambda tuple:1)\n",
    "\n",
    "rdd_negative_words_ot_kv.take(5)"
   ]
  },
  {
   "cell_type": "code",
   "execution_count": 142,
   "metadata": {},
   "outputs": [
    {
     "data": {
      "text/plain": [
       "[('threat', 57),\n",
       " ('fraud', 118),\n",
       " ('risk', 45),\n",
       " ('horrendous', 26),\n",
       " ('lost', 304)]"
      ]
     },
     "execution_count": 142,
     "metadata": {},
     "output_type": "execute_result"
    }
   ],
   "source": [
    "# rdd_negative_words_ot_count_kv should contain the number of occurences (count) of each negative word in tweets\n",
    "\n",
    "rdd_negative_words_ot_count_kv = rdd_negative_words_ot_kv.reduceByKey(lambda x,y: x+y)\n",
    "\n",
    "rdd_negative_words_ot_count_kv.take(5)"
   ]
  },
  {
   "cell_type": "code",
   "execution_count": 144,
   "metadata": {},
   "outputs": [
    {
     "data": {
      "text/plain": [
       "[('fake', 1102),\n",
       " ('bad', 859),\n",
       " ('hard', 633),\n",
       " ('crime', 444),\n",
       " ('crooked', 421),\n",
       " ('illegal', 343),\n",
       " ('radical', 317),\n",
       " ('lost', 304),\n",
       " ('terrible', 304),\n",
       " ('corrupt', 289),\n",
       " ('wrong', 276),\n",
       " ('sad', 257),\n",
       " ('miss', 255),\n",
       " ('collusion', 243),\n",
       " ('failing', 242),\n",
       " ('worst', 226),\n",
       " ('attack', 216),\n",
       " ('failed', 214),\n",
       " ('crazy', 212),\n",
       " ('problem', 210),\n",
       " ('phony', 207),\n",
       " ('weak', 204),\n",
       " ('badly', 200),\n",
       " ('disaster', 198),\n",
       " ('dishonest', 180)]"
      ]
     },
     "execution_count": 144,
     "metadata": {},
     "output_type": "execute_result"
    }
   ],
   "source": [
    "# rdd_negative_words_ot_count_kv_ordered should contain the previous RDD in descending order based on the count\n",
    "\n",
    "rdd_negative_words_ot_count_kv_ordered = rdd_negative_words_ot_count_kv.sortBy(lambda tuple: tuple[1], ascending=False)\n",
    "\n",
    "list_top_negatives_opinion_ot = rdd_negative_words_ot_count_kv_ordered.take(25)\n",
    "\n",
    "list_top_negatives_opinion_ot"
   ]
  },
  {
   "cell_type": "code",
   "execution_count": 145,
   "metadata": {},
   "outputs": [
    {
     "data": {
      "image/png": "[encoded data removed]",
      "text/plain": [
       "<Figure size 1080x576 with 1 Axes>"
      ]
     },
     "metadata": {
      "needs_background": "light"
     },
     "output_type": "display_data"
    }
   ],
   "source": [
    "# call the plot_opinion function to plot tweets top positives and negatives words\n",
    "\n",
    "plot_opinion(list_top_positives_opinion_ot, list_top_negatives_opinion_ot)"
   ]
  },
  {
   "cell_type": "code",
   "execution_count": 149,
   "metadata": {},
   "outputs": [
    {
     "data": {
      "text/plain": [
       "['bahrain',\n",
       " 'bahrain',\n",
       " 'bahrain',\n",
       " 'bahrain',\n",
       " 'bahrain',\n",
       " 'bahrain',\n",
       " 'bahrain',\n",
       " 'bahrain',\n",
       " '05:47:03',\n",
       " '05:03:00',\n",
       " '05:03:28',\n",
       " 'let',\n",
       " 'let',\n",
       " 'let',\n",
       " 'let',\n",
       " 'let',\n",
       " 'let',\n",
       " 'let',\n",
       " 'let',\n",
       " 'let']"
      ]
     },
     "execution_count": 149,
     "metadata": {},
     "output_type": "execute_result"
    }
   ],
   "source": [
    "# compute the neutral/contextual words RDD by using rdd_original_tweets_words_lower, rdd_positive_words, rdd_negative_words and rdd_stop_words\n",
    "# neutral words are words in product reviews file, that are not positive words or negative words or stop words\n",
    "# tip: you can use the subtract transformation on RDD see documentation \n",
    "# http://spark.apache.org/docs/latest/api/python/pyspark.html#pyspark.RDD\n",
    "\n",
    "contextual_words_ot = rdd_original_tweets_words_lower.subtract(rdd_positive_words).subtract(rdd_negative_words).subtract(rdd_stop_words)\n",
    "\n",
    "contextual_words_ot.take(20)"
   ]
  },
  {
   "cell_type": "code",
   "execution_count": 150,
   "metadata": {},
   "outputs": [
    {
     "data": {
      "text/plain": [
       "[('just', 2858),\n",
       " ('people', 2597),\n",
       " ('president', 2222),\n",
       " ('new', 2072),\n",
       " ('big', 1749),\n",
       " ('make', 1657),\n",
       " ('america', 1563),\n",
       " ('country', 1546),\n",
       " ('time', 1410),\n",
       " ('obama', 1334),\n",
       " ('going', 1333),\n",
       " ('news', 1264),\n",
       " ('thanks', 1231),\n",
       " ('vote', 1199),\n",
       " ('want', 1195),\n",
       " ('democrats', 1099),\n",
       " ('need', 1053),\n",
       " ('run', 1028),\n",
       " ('u.s.', 1004),\n",
       " ('really', 1001),\n",
       " ('doing', 1001),\n",
       " ('think', 988),\n",
       " ('american', 978),\n",
       " ('job', 966),\n",
       " ('china', 885),\n",
       " ('today', 882),\n",
       " ('did', 872),\n",
       " ('know', 870),\n",
       " ('way', 844),\n",
       " ('said', 817),\n",
       " (\"don't\", 812),\n",
       " ('years', 812),\n",
       " ('media', 793),\n",
       " ('total', 777),\n",
       " ('hillary', 775),\n",
       " ('got', 748),\n",
       " ('jobs', 737),\n",
       " ('united', 728),\n",
       " ('look', 705),\n",
       " ('state', 694),\n",
       " ('day', 694),\n",
       " ('states', 693),\n",
       " ('border', 688),\n",
       " ('don’t', 670),\n",
       " ('deal', 634),\n",
       " ('house', 625),\n",
       " ('national', 625),\n",
       " ('world', 618),\n",
       " ('republican', 612),\n",
       " ('military', 610)]"
      ]
     },
     "execution_count": 150,
     "metadata": {},
     "output_type": "execute_result"
    }
   ],
   "source": [
    "# use multiple transformations for counting each contextual word in the product review file, sorted in ascending order based \n",
    "# on the count\n",
    "\n",
    "contextual_words_count_ordered_ot = contextual_words_ot.map(lambda word: (word, 1))\\\n",
    "                                                 .reduceByKey(lambda x,y : x+y)\\\n",
    "                                                 .sortBy(lambda tuple: tuple[1], ascending=False)\n",
    "\n",
    "list_top_contextual_words_ot = contextual_words_count_ordered_ot.take(50)  \n",
    "\n",
    "list_top_contextual_words_ot"
   ]
  },
  {
   "cell_type": "code",
   "execution_count": 151,
   "metadata": {},
   "outputs": [
    {
     "data": {
      "image/png": "[encoded data removed]",
      "text/plain": [
       "<Figure size 1080x576 with 1 Axes>"
      ]
     },
     "metadata": {
      "needs_background": "light"
     },
     "output_type": "display_data"
    }
   ],
   "source": [
    "# call the plot_contextual_words function to plot tweets top contextual words\n",
    "\n",
    "plot_contextual_words(list_top_contextual_words_ot)"
   ]
  },
  {
   "cell_type": "code",
   "execution_count": 153,
   "metadata": {},
   "outputs": [
    {
     "name": "stdout",
     "output_type": "stream",
     "text": [
      "The sentiment score is :  20854\n"
     ]
    }
   ],
   "source": [
    "# Compute the global sentiment score: the total count of positive words (e.g. use rdd_positive_words_ot_count_kv) minus\n",
    "# the total count of negative words (e.g. use rdd_negative_words_ot_count_kv)\n",
    "\n",
    "\n",
    "sentiment_score_ot = rdd_positive_words_ot_count_kv.map(lambda tuple: tuple[1]).sum()\\\n",
    "                  - rdd_negative_words_ot_count_kv.map(lambda tuple: tuple[1]).sum()\n",
    "\n",
    "print('The sentiment score is : ',sentiment_score_ot)"
   ]
  },
  {
   "cell_type": "code",
   "execution_count": 154,
   "metadata": {},
   "outputs": [
    {
     "data": {
      "text/plain": [
       "[('#MAGA🇺🇸🦅rally', 1),\n",
       " ('#Florida:', 1),\n",
       " ('#ProAmericaRally', 1),\n",
       " ('#AmyConeyBarrett', 1),\n",
       " ('#EarlyVoting', 1),\n",
       " ('#VOTE', 1),\n",
       " ('#Election2020', 1),\n",
       " ('#EarlyVoting', 1),\n",
       " ('#VoteEarly', 1),\n",
       " ('#…;16/10/2020', 1)]"
      ]
     },
     "execution_count": 154,
     "metadata": {},
     "output_type": "execute_result"
    }
   ],
   "source": [
    "### Analysis of retweets\n",
    "\n",
    "# split each tweet into words\n",
    "words_rt = rdd_retweets.flatMap(lambda line: line.split(\" \"))\n",
    "\n",
    "# filter the words to get only hashtags, then map each hashtag to be a pair of (hashtag,1)\n",
    "hashtags_rt = words_rt.filter(lambda w: '#' in w).map(lambda x: (x, 1))\n",
    "hashtags_rt.take(10)"
   ]
  },
  {
   "cell_type": "code",
   "execution_count": 155,
   "metadata": {},
   "outputs": [
    {
     "data": {
      "text/plain": [
       "[('#MAGA', 60),\n",
       " ('#COVID19', 38),\n",
       " ('#USMCA', 24),\n",
       " ('#coronavirus', 20),\n",
       " ('#PaycheckProtectionProgram', 18),\n",
       " ('#COVID19.', 17),\n",
       " ('#Dorian', 17),\n",
       " ('#impeachment', 16),\n",
       " ('#Trump2016', 13),\n",
       " ('#MakeAmericaGreatAgain', 13)]"
      ]
     },
     "execution_count": 155,
     "metadata": {},
     "output_type": "execute_result"
    }
   ],
   "source": [
    "hashtags_rt_count = hashtags_rt.reduceByKey(lambda x,y : x+y).sortBy(lambda tuple: tuple[1], ascending=False)\n",
    "hashtags_rt_count.take(10)"
   ]
  },
  {
   "cell_type": "code",
   "execution_count": 156,
   "metadata": {},
   "outputs": [
    {
     "data": {
      "text/plain": [
       "[('@CBS_Herridge:', 1),\n",
       " ('@MZHemingway:', 1),\n",
       " ('@WhiteHouse:', 1),\n",
       " ('@realDonaldTrump', 1),\n",
       " ('@EricTrump:', 1),\n",
       " ('@GOPChairwoman:', 1),\n",
       " ('@TomFitton:', 1),\n",
       " ('@RealDonaldTrump', 1),\n",
       " ('@marklevinshow:', 1),\n",
       " ('@RealRLimbaugh:', 1)]"
      ]
     },
     "execution_count": 156,
     "metadata": {},
     "output_type": "execute_result"
    }
   ],
   "source": [
    "# filter the words to get only references, then map each reference to be a pair of (reference,1)\n",
    "\n",
    "references_rt = words_rt.filter(lambda w: '@' in w).map(lambda x: (x, 1))\n",
    "references_rt.take(10)"
   ]
  },
  {
   "cell_type": "code",
   "execution_count": 157,
   "metadata": {},
   "outputs": [
    {
     "data": {
      "text/plain": [
       "[('@realDonaldTrump', 1142),\n",
       " ('@realDonaldTrump:', 1054),\n",
       " ('@WhiteHouse:', 657),\n",
       " ('@TeamTrump:', 276),\n",
       " ('@GOPChairwoman:', 212),\n",
       " ('@DanScavino:', 160),\n",
       " ('@Jim_Jordan:', 139),\n",
       " ('@GOP:', 138),\n",
       " ('@DonaldJTrumpJr:', 114),\n",
       " ('@Scavino45:', 114)]"
      ]
     },
     "execution_count": 157,
     "metadata": {},
     "output_type": "execute_result"
    }
   ],
   "source": [
    "references_rt_count = references_rt.reduceByKey(lambda x,y : x+y).sortBy(lambda tuple: tuple[1], ascending=False)\n",
    "references_rt_count.take(10)"
   ]
  },
  {
   "cell_type": "code",
   "execution_count": 158,
   "metadata": {},
   "outputs": [
    {
     "data": {
      "text/plain": [
       "['RT',\n",
       " '@CBS_Herridge:',\n",
       " 'READ:',\n",
       " 'Letter',\n",
       " 'to',\n",
       " 'surveillance',\n",
       " 'court',\n",
       " 'obtained',\n",
       " 'by',\n",
       " 'CBS']"
      ]
     },
     "execution_count": 158,
     "metadata": {},
     "output_type": "execute_result"
    }
   ],
   "source": [
    "# compute an rdd with individual words (rdd_retweets_words) from the rdd_product by using the previous function\n",
    "# rdd_retweets_words should not contain empty strings\n",
    "\n",
    "rdd_retweets_words = rdd_retweets.flatMap(split_with_multiple_separator).filter(lambda word: word!='')\n",
    "rdd_retweets_words.take(10)\n",
    "\n"
   ]
  },
  {
   "cell_type": "code",
   "execution_count": 159,
   "metadata": {},
   "outputs": [
    {
     "data": {
      "text/plain": [
       "['rt',\n",
       " '@cbs_herridge:',\n",
       " 'read:',\n",
       " 'letter',\n",
       " 'to',\n",
       " 'surveillance',\n",
       " 'court',\n",
       " 'obtained',\n",
       " 'by',\n",
       " 'cbs']"
      ]
     },
     "execution_count": 159,
     "metadata": {},
     "output_type": "execute_result"
    }
   ],
   "source": [
    "#Use the fucntion 'Func' created before to lower the case of each word \n",
    "\n",
    "rdd_retweets_words_lower = rdd_retweets_words.flatMap(Func)\n",
    "rdd_retweets_words_lower.take(10)"
   ]
  },
  {
   "cell_type": "code",
   "execution_count": 176,
   "metadata": {},
   "outputs": [
    {
     "data": {
      "text/plain": [
       "['@cbs_herridge:',\n",
       " 'read:',\n",
       " 'letter',\n",
       " 'to',\n",
       " 'surveillance',\n",
       " 'obtained',\n",
       " 'by',\n",
       " 'cbs',\n",
       " 'news',\n",
       " 'questions']"
      ]
     },
     "execution_count": 176,
     "metadata": {},
     "output_type": "execute_result"
    }
   ],
   "source": [
    "#delete \"rt\"\n",
    "\n",
    "delword = [\"rt\"]\n",
    "def delrt(line):\n",
    "    for i in delword:\n",
    "        if i in line:\n",
    "            return 1\n",
    "    return 0\n",
    "rdd_retweets_words_lower = rdd_retweets_words_lower.filter(lambda line: delrt(line) != 1)\n",
    "rdd_retweets_words_lower.take(10)"
   ]
  },
  {
   "cell_type": "code",
   "execution_count": 160,
   "metadata": {},
   "outputs": [
    {
     "data": {
      "text/plain": [
       "[('rt', 1),\n",
       " ('@cbs_herridge:', 1),\n",
       " ('read:', 1),\n",
       " ('letter', 1),\n",
       " ('to', 1),\n",
       " ('surveillance', 1),\n",
       " ('court', 1),\n",
       " ('obtained', 1),\n",
       " ('by', 1),\n",
       " ('cbs', 1)]"
      ]
     },
     "execution_count": 160,
     "metadata": {},
     "output_type": "execute_result"
    }
   ],
   "source": [
    "# initialize an rdd with key/value for counting each word in the file \n",
    "\n",
    "rdd_retweets_words_kv = rdd_retweets_words_lower.map(lambda word: (word, 1))\n",
    "\n",
    "rdd_retweets_words_kv.take(10)"
   ]
  },
  {
   "cell_type": "code",
   "execution_count": 161,
   "metadata": {},
   "outputs": [
    {
     "data": {
      "text/plain": [
       "[('right', (1, 1)),\n",
       " ('right', (1, 1)),\n",
       " ('right', (1, 1)),\n",
       " ('right', (1, 1)),\n",
       " ('right', (1, 1))]"
      ]
     },
     "execution_count": 161,
     "metadata": {},
     "output_type": "execute_result"
    }
   ],
   "source": [
    "# rdd_positive_words_rt_kv RDD should contain positive words in the product review file\n",
    "\n",
    "rdd_positive_words_rt_kv = rdd_retweets_words_kv.join(rdd_positive_words_kv)\n",
    "\n",
    "rdd_positive_words_rt_kv.take(5)"
   ]
  },
  {
   "cell_type": "code",
   "execution_count": 162,
   "metadata": {},
   "outputs": [
    {
     "data": {
      "text/plain": [
       "[('right', 1), ('right', 1), ('right', 1), ('right', 1), ('right', 1)]"
      ]
     },
     "execution_count": 162,
     "metadata": {},
     "output_type": "execute_result"
    }
   ],
   "source": [
    "# use the mapValues transformation to assign a default count of 1 for each positive word\n",
    "\n",
    "rdd_positive_words_rt_kv = rdd_positive_words_rt_kv.mapValues(lambda tuple: 1)\n",
    "\n",
    "rdd_positive_words_rt_kv.take(5)"
   ]
  },
  {
   "cell_type": "code",
   "execution_count": 163,
   "metadata": {},
   "outputs": [
    {
     "data": {
      "text/plain": [
       "[('right', 112), ('good', 108), ('like', 183), ('safe', 31), ('effective', 9)]"
      ]
     },
     "execution_count": 163,
     "metadata": {},
     "output_type": "execute_result"
    }
   ],
   "source": [
    "# rdd_positive_words_rt_count_kv should contain the number of occurences (count) of each positive word in tweets\n",
    "\n",
    "rdd_positive_words_rt_count_kv = rdd_positive_words_rt_kv.reduceByKey(lambda x,y : x+y)\n",
    "\n",
    "\n",
    "rdd_positive_words_rt_count_kv.take(5)"
   ]
  },
  {
   "cell_type": "code",
   "execution_count": 164,
   "metadata": {},
   "outputs": [
    {
     "data": {
      "text/plain": [
       "[('trump', 926),\n",
       " ('great', 397),\n",
       " ('thank', 272),\n",
       " ('like', 183),\n",
       " ('support', 152),\n",
       " ('right', 112),\n",
       " ('good', 108),\n",
       " ('work', 105),\n",
       " ('best', 103),\n",
       " ('strong', 83),\n",
       " ('love', 81),\n",
       " ('win', 80),\n",
       " ('protect', 73),\n",
       " ('incredible', 68),\n",
       " ('happy', 67),\n",
       " ('proud', 65),\n",
       " ('approval', 63),\n",
       " ('important', 63),\n",
       " ('honor', 59),\n",
       " ('supreme', 52),\n",
       " ('better', 52),\n",
       " ('congratulations', 49),\n",
       " ('clear', 49),\n",
       " ('well', 48),\n",
       " ('amazing', 47)]"
      ]
     },
     "execution_count": 164,
     "metadata": {},
     "output_type": "execute_result"
    }
   ],
   "source": [
    "# rdd_positive_words_rt_count_kv_ordered should contain the previous RDD in descending order based on the count\n",
    "\n",
    "rdd_positive_words_rt_count_kv_ordered = rdd_positive_words_rt_count_kv.sortBy(lambda tuple: tuple[1], ascending=False)\n",
    "\n",
    "list_top_positives_opinion_rt = rdd_positive_words_rt_count_kv_ordered.take(25)\n",
    "\n",
    "list_top_positives_opinion_rt"
   ]
  },
  {
   "cell_type": "code",
   "execution_count": 165,
   "metadata": {},
   "outputs": [
    {
     "data": {
      "text/plain": [
       "[('dishonest', (1, 1)),\n",
       " ('dishonest', (1, 1)),\n",
       " ('dishonest', (1, 1)),\n",
       " ('dishonest', (1, 1)),\n",
       " ('dishonest', (1, 1))]"
      ]
     },
     "execution_count": 165,
     "metadata": {},
     "output_type": "execute_result"
    }
   ],
   "source": [
    "# rdd_negative_words_rt_kv RDD should contain negative words in the tweets file\n",
    "\n",
    "rdd_negative_words_rt_kv = rdd_retweets_words_kv.join(rdd_negative_words_kv)\n",
    "\n",
    "rdd_negative_words_rt_kv.take(5)"
   ]
  },
  {
   "cell_type": "code",
   "execution_count": 166,
   "metadata": {},
   "outputs": [
    {
     "data": {
      "text/plain": [
       "[('dishonest', 1),\n",
       " ('dishonest', 1),\n",
       " ('dishonest', 1),\n",
       " ('dishonest', 1),\n",
       " ('dishonest', 1)]"
      ]
     },
     "execution_count": 166,
     "metadata": {},
     "output_type": "execute_result"
    }
   ],
   "source": [
    "# use the mapValues transformation to assign a default count of 1 for each negative word\n",
    "\n",
    "rdd_negative_words_rt_kv = rdd_negative_words_rt_kv.mapValues(lambda tuple:1)\n",
    "\n",
    "rdd_negative_words_rt_kv.take(5)"
   ]
  },
  {
   "cell_type": "code",
   "execution_count": 167,
   "metadata": {},
   "outputs": [
    {
     "data": {
      "text/plain": [
       "[('dishonest', 7),\n",
       " ('lost', 32),\n",
       " ('fraud', 36),\n",
       " ('killed', 30),\n",
       " ('grieving', 2)]"
      ]
     },
     "execution_count": 167,
     "metadata": {},
     "output_type": "execute_result"
    }
   ],
   "source": [
    "# rdd_negative_words_rt_count_kv should contain the number of occurences (count) of each negative word in tweets\n",
    "\n",
    "rdd_negative_words_rt_count_kv = rdd_negative_words_rt_kv.reduceByKey(lambda x,y: x+y)\n",
    "\n",
    "rdd_negative_words_rt_count_kv.take(5)"
   ]
  },
  {
   "cell_type": "code",
   "execution_count": 168,
   "metadata": {},
   "outputs": [
    {
     "data": {
      "text/plain": [
       "[('fake', 93),\n",
       " ('radical', 65),\n",
       " ('hard', 57),\n",
       " ('collusion', 53),\n",
       " ('impeach', 51),\n",
       " ('illegal', 48),\n",
       " ('sham', 46),\n",
       " ('partisan', 45),\n",
       " ('critical', 45),\n",
       " ('breaking', 42),\n",
       " ('crime', 41),\n",
       " ('attack', 41),\n",
       " ('destroy', 40),\n",
       " ('bad', 40),\n",
       " ('abuse', 38),\n",
       " ('lies', 37),\n",
       " ('crisis', 37),\n",
       " ('fraud', 36),\n",
       " ('wrong', 36),\n",
       " ('hoax', 36),\n",
       " ('corrupt', 35),\n",
       " ('failed', 33),\n",
       " ('lost', 32),\n",
       " ('false', 32),\n",
       " ('criminal', 31)]"
      ]
     },
     "execution_count": 168,
     "metadata": {},
     "output_type": "execute_result"
    }
   ],
   "source": [
    "# rdd_negative_words_rt_count_kv_ordered should contain the previous RDD in descending order based on the count\n",
    "\n",
    "rdd_negative_words_rt_count_kv_ordered = rdd_negative_words_rt_count_kv.sortBy(lambda tuple: tuple[1], ascending=False)\n",
    "\n",
    "list_top_negatives_opinion_rt = rdd_negative_words_rt_count_kv_ordered.take(25)\n",
    "\n",
    "list_top_negatives_opinion_rt"
   ]
  },
  {
   "cell_type": "code",
   "execution_count": 169,
   "metadata": {},
   "outputs": [
    {
     "data": {
      "image/png": "[encoded data removed]",
      "text/plain": [
       "<Figure size 1080x576 with 1 Axes>"
      ]
     },
     "metadata": {
      "needs_background": "light"
     },
     "output_type": "display_data"
    }
   ],
   "source": [
    "# call the plot_opinion function to plot tweets top positives and negatives words\n",
    "\n",
    "plot_opinion(list_top_positives_opinion_rt, list_top_negatives_opinion_rt)"
   ]
  },
  {
   "cell_type": "code",
   "execution_count": 174,
   "metadata": {},
   "outputs": [
    {
     "data": {
      "text/plain": [
       "['action',\n",
       " 'action',\n",
       " 'action',\n",
       " 'action',\n",
       " 'action',\n",
       " 'action',\n",
       " 'action',\n",
       " 'action',\n",
       " 'action',\n",
       " 'action',\n",
       " 'action',\n",
       " 'action',\n",
       " 'action',\n",
       " 'action',\n",
       " 'action',\n",
       " 'action',\n",
       " 'action',\n",
       " 'action',\n",
       " 'action',\n",
       " 'action']"
      ]
     },
     "execution_count": 174,
     "metadata": {},
     "output_type": "execute_result"
    }
   ],
   "source": [
    "# compute the neutral/contextual words RDD by using rdd_retweets_words_lower, rdd_positive_words, rdd_negative_words and rdd_stop_words\n",
    "# neutral words are words in product reviews file, that are not positive words or negative words or stop words\n",
    "# tip: you can use the subtract transformation on RDD see documentation \n",
    "# http://spark.apache.org/docs/latest/api/python/pyspark.html#pyspark.RDD\n",
    "\n",
    "contextual_words_rt = rdd_retweets_words_lower.subtract(rdd_positive_words).subtract(rdd_negative_words).subtract(rdd_stop_words)\n",
    "\n",
    "contextual_words_rt.take(20)"
   ]
  },
  {
   "cell_type": "code",
   "execution_count": 177,
   "metadata": {},
   "outputs": [
    {
     "data": {
      "text/plain": [
       "[('president', 1397),\n",
       " ('@whitehouse:', 657),\n",
       " ('democrats', 469),\n",
       " ('american', 389),\n",
       " ('just', 381),\n",
       " ('biden', 365),\n",
       " ('new', 360),\n",
       " ('people', 356),\n",
       " ('impeachment', 323),\n",
       " ('\"\"\"rt', 308),\n",
       " ('today', 286),\n",
       " ('@teamtrump:', 276),\n",
       " ('joe', 267),\n",
       " ('house', 246),\n",
       " ('america', 245),\n",
       " ('news', 222),\n",
       " ('media', 220),\n",
       " ('@gopchairwoman:', 212),\n",
       " ('senate', 200),\n",
       " ('time', 187),\n",
       " ('fbi', 184),\n",
       " ('want', 180),\n",
       " ('coronavirus', 175),\n",
       " ('day', 174),\n",
       " ('vote', 174),\n",
       " ('years', 164),\n",
       " ('says', 161),\n",
       " ('obama', 161),\n",
       " ('@danscavino:', 160),\n",
       " ('did', 158),\n",
       " ('election', 155),\n",
       " ('americans', 155),\n",
       " ('it’s', 150),\n",
       " ('national', 148),\n",
       " ('make', 147),\n",
       " ('schiff', 147),\n",
       " ('state', 146),\n",
       " ('u.s.', 145),\n",
       " ('country', 144),\n",
       " ('going', 141),\n",
       " ('@jim_jordan:', 139),\n",
       " ('@gop:', 138),\n",
       " ('live:', 136),\n",
       " ('said', 134),\n",
       " ('big', 132),\n",
       " ('know', 129),\n",
       " ('united', 129),\n",
       " ('republican', 124),\n",
       " ('states', 123),\n",
       " ('help', 123)]"
      ]
     },
     "execution_count": 177,
     "metadata": {},
     "output_type": "execute_result"
    }
   ],
   "source": [
    "# use multiple transformations for counting each contextual word in the product review file, sorted in ascending order based \n",
    "# on the count\n",
    "\n",
    "contextual_words_count_ordered_rt = contextual_words_rt.map(lambda word: (word, 1))\\\n",
    "                                                 .reduceByKey(lambda x,y : x+y)\\\n",
    "                                                 .sortBy(lambda tuple: tuple[1], ascending=False)\n",
    "\n",
    "list_top_contextual_words_rt = contextual_words_count_ordered_rt.take(50)  \n",
    "\n",
    "list_top_contextual_words_rt"
   ]
  },
  {
   "cell_type": "code",
   "execution_count": 178,
   "metadata": {},
   "outputs": [
    {
     "data": {
      "image/png": "[encoded data removed]",
      "text/plain": [
       "<Figure size 1080x576 with 1 Axes>"
      ]
     },
     "metadata": {
      "needs_background": "light"
     },
     "output_type": "display_data"
    }
   ],
   "source": [
    "# call the plot_contextual_words function to plot tweets top contextual words\n",
    "\n",
    "plot_contextual_words(list_top_contextual_words_rt)"
   ]
  },
  {
   "cell_type": "code",
   "execution_count": 179,
   "metadata": {},
   "outputs": [
    {
     "name": "stdout",
     "output_type": "stream",
     "text": [
      "The sentiment score is :  1826\n"
     ]
    }
   ],
   "source": [
    "# Compute the global sentiment score: the total count of positive words (e.g. use rdd_positive_words_rt_count_kv) minus\n",
    "# the total count of negative words (e.g. use rdd_negative_words_rt_count_kv)\n",
    "\n",
    "\n",
    "sentiment_score_rt = rdd_positive_words_rt_count_kv.map(lambda tuple: tuple[1]).sum()\\\n",
    "                  - rdd_negative_words_rt_count_kv.map(lambda tuple: tuple[1]).sum()\n",
    "\n",
    "print('The sentiment score is : ',sentiment_score_rt)"
   ]
  },
  {
   "cell_type": "code",
   "execution_count": null,
   "metadata": {},
   "outputs": [],
   "source": []
  }
 ],
 "metadata": {
  "kernelspec": {
   "display_name": "Python 3",
   "language": "python",
   "name": "python3"
  },
  "language_info": {
   "codemirror_mode": {
    "name": "ipython",
    "version": 3
   },
   "file_extension": ".py",
   "mimetype": "text/x-python",
   "name": "python",
   "nbconvert_exporter": "python",
   "pygments_lexer": "ipython3",
   "version": "3.8.3"
  }
 },
 "nbformat": 4,
 "nbformat_minor": 4
}
